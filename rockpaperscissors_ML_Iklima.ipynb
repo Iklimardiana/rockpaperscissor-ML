{
 "cells": [
  {
   "cell_type": "markdown",
   "metadata": {},
   "source": [
    "### SUBMISSION KELAS DASAR MACHINE LEARNING UNTUK PEMULA\n",
    "\n",
    "---\n",
    "\n",
    "\n",
    "Nama : Iklima Mardiana\n",
    "\n",
    "Email : iklimardiana911@gmail.com\n",
    "\n",
    "Perguruan Tinggi : Universitas Pendidikan Indonesia\n",
    "\n",
    "Linkedin : [Iklima Mardiana](https://linkedin.com/in/iklima-mardiana)\n"
   ]
  },
  {
   "cell_type": "code",
   "execution_count": null,
   "metadata": {},
   "outputs": [],
   "source": [
    "import tensorflow as tf\n",
    "print(tf.__version__)"
   ]
  }
 ],
 "metadata": {
  "language_info": {
   "name": "python"
  }
 },
 "nbformat": 4,
 "nbformat_minor": 2
}
